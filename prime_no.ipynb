{
 "cells": [
  {
   "cell_type": "code",
   "execution_count": 13,
   "metadata": {},
   "outputs": [],
   "source": [
    "def prime():\n",
    "    sum=0\n",
    "    while True:\n",
    "        try:\n",
    "            n = int(input(\"enter number: \"))\n",
    "            break\n",
    "        except ValueError:\n",
    "            print(\"Invalid Input...Please enter a positive digit... \")\n",
    "            continue\n",
    "    if n>1:\n",
    "        for i in range(2, int(n/2)+1):\n",
    "            if(n%i) == 0:\n",
    "                print(-1)\n",
    "                break\n",
    "        else:\n",
    "            for i in range(0, n+1):\n",
    "                sum+=i\n",
    "            print(\"the sum of all number from 0 till the N is: \",sum)\n",
    "    else:\n",
    "        print(-1)\n",
    "    \n",
    "    return"
   ]
  },
  {
   "cell_type": "code",
   "execution_count": 12,
   "metadata": {},
   "outputs": [
    {
     "name": "stdout",
     "output_type": "stream",
     "text": [
      "enter number: a2\n",
      "Invalid Input...Please enter a positive digit... \n",
      "enter number: 10.1\n",
      "Invalid Input...Please enter a positive digit... \n",
      "enter number: 10.11\n",
      "Invalid Input...Please enter a positive digit... \n",
      "enter number: 10\n",
      "-1\n"
     ]
    }
   ],
   "source": [
    "prime()"
   ]
  },
  {
   "cell_type": "code",
   "execution_count": null,
   "metadata": {},
   "outputs": [],
   "source": []
  }
 ],
 "metadata": {
  "kernelspec": {
   "display_name": "Python 3",
   "language": "python",
   "name": "python3"
  },
  "language_info": {
   "codemirror_mode": {
    "name": "ipython",
    "version": 3
   },
   "file_extension": ".py",
   "mimetype": "text/x-python",
   "name": "python",
   "nbconvert_exporter": "python",
   "pygments_lexer": "ipython3",
   "version": "3.8.5"
  }
 },
 "nbformat": 4,
 "nbformat_minor": 4
}
