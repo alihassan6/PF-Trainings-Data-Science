{
 "cells": [
  {
   "cell_type": "code",
   "execution_count": 2,
   "metadata": {},
   "outputs": [],
   "source": [
    "def students():\n",
    "    total = 0\n",
    "    math = 0\n",
    "    bio = 0\n",
    "    \n",
    "    while total <= 0:\n",
    "        try:\n",
    "            total = int(input(\"total students: \"))\n",
    "            if total <= 0:\n",
    "                print(\"The total number of students must be a positive integer.\")\n",
    "        except ValueError:\n",
    "            print(\"Please input integer only...\")  \n",
    "            continue\n",
    "            \n",
    "    while True:\n",
    "        try:\n",
    "            math = int(input(\"math students:\"))\n",
    "            \n",
    "            if (math > total):\n",
    "                print(\"invalid... sum of math and bio students cannot be greater than total\")\n",
    "            else:   \n",
    "                break\n",
    "        except ValueError:\n",
    "            print(\"Please input integer only...\") \n",
    "            \n",
    "    \n",
    "    while True:\n",
    "        try:\n",
    "            bio = int(input(\"bio students:\"))\n",
    "            \n",
    "            if (math + bio > total):\n",
    "                print(\"invalid... sum of math and bio students cannot be greater than total\")\n",
    "            else:\n",
    "                break\n",
    "        except ValueError:\n",
    "            print(\"Please input integer only...\")  \n",
    "            continue\n",
    "    \n",
    "    \n",
    "    \n",
    "    \n",
    "    without_math = total - math\n",
    "    print(\"Students without math :\", without_math)\n",
    "    without_bio = total - bio\n",
    "    print(\"Students without bio: \", without_bio)\n",
    "    with_math_bio = math + bio\n",
    "    print(\"with math and bio: \", with_math_bio)\n",
    "    return"
   ]
  },
  {
   "cell_type": "code",
   "execution_count": 3,
   "metadata": {},
   "outputs": [
    {
     "name": "stdout",
     "output_type": "stream",
     "text": [
      "total students: 4\n",
      "math students:2\n",
      "bio students:2\n",
      "Students without math : 2\n",
      "Students without bio:  2\n",
      "with math and bio:  4\n"
     ]
    }
   ],
   "source": [
    "students()"
   ]
  },
  {
   "cell_type": "code",
   "execution_count": null,
   "metadata": {},
   "outputs": [],
   "source": []
  }
 ],
 "metadata": {
  "kernelspec": {
   "display_name": "Python 3",
   "language": "python",
   "name": "python3"
  },
  "language_info": {
   "codemirror_mode": {
    "name": "ipython",
    "version": 3
   },
   "file_extension": ".py",
   "mimetype": "text/x-python",
   "name": "python",
   "nbconvert_exporter": "python",
   "pygments_lexer": "ipython3",
   "version": "3.8.5"
  }
 },
 "nbformat": 4,
 "nbformat_minor": 4
}
