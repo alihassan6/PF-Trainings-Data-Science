{
 "cells": [
  {
   "cell_type": "code",
   "execution_count": 1,
   "metadata": {},
   "outputs": [
    {
     "data": {
      "text/plain": [
       "'/media/ali-hassan/8A56FC4956FC3811/PF_DataScience/cv/annotator'"
      ]
     },
     "execution_count": 1,
     "metadata": {},
     "output_type": "execute_result"
    }
   ],
   "source": [
    "import json\n",
    "import cv2\n",
    "import os\n",
    "\n",
    "if not os.path.exists('JsonExtracted'):\n",
    "    os.makedirs('JsonExtracted')\n",
    "os.getcwd()"
   ]
  },
  {
   "cell_type": "code",
   "execution_count": 2,
   "metadata": {},
   "outputs": [],
   "source": [
    "with open(\"cat_dog/cat_dog_annotations.json\", \"r\") as f:\n",
    "    data = json.load(f)"
   ]
  },
  {
   "cell_type": "code",
   "execution_count": 3,
   "metadata": {},
   "outputs": [
    {
     "data": {
      "text/plain": [
       "dict_keys(['_via_settings', '_via_img_metadata', '_via_attributes'])"
      ]
     },
     "execution_count": 3,
     "metadata": {},
     "output_type": "execute_result"
    }
   ],
   "source": [
    "data.keys()"
   ]
  },
  {
   "cell_type": "code",
   "execution_count": 4,
   "metadata": {},
   "outputs": [],
   "source": [
    "metadata = data[\"_via_img_metadata\"]"
   ]
  },
  {
   "cell_type": "code",
   "execution_count": 7,
   "metadata": {},
   "outputs": [],
   "source": [
    "\n",
    "for key in metadata:\n",
    "    image_data = metadata[key]\n",
    "    file_name = image_data[\"filename\"]\n",
    "    image = cv2.imread(file_name)\n",
    "    regions = image_data[\"regions\"]\n",
    "    for i in regions:\n",
    "        x = i[\"shape_attributes\"][\"x\"]\n",
    "        y = i[\"shape_attributes\"][\"y\"]\n",
    "        width = i[\"shape_attributes\"][\"width\"]\n",
    "        height = i[\"shape_attributes\"][\"height\"]\n",
    "        label = list(i[\"region_attributes\"][\"class\"])[0]\n",
    "        x1, y1, x2, y2 = x, y, x+width, y+height\n",
    "        \n",
    "        cv2.rectangle(image, (x1, y1), (x2, y2), color=(0, 0, 255), thickness=2)\n",
    "        cv2.putText(image, label, (x1+10, y1+20), cv2.FONT_HERSHEY_SIMPLEX, 1, color=(0, 0, 255), thickness=2)\n",
    "    \n",
    "    os.chdir(\"/media/ali-hassan/8A56FC4956FC3811/PF_DataScience/cv/annotator/JsonExtracted\")\n",
    "    fil = f\"{file_name}\"\n",
    "    cv2.imwrite(fil, image)\n",
    "    os.chdir('/media/ali-hassan/8A56FC4956FC3811/PF_DataScience/cv/annotator')"
   ]
  }
 ],
 "metadata": {
  "kernelspec": {
   "display_name": "Python 3",
   "language": "python",
   "name": "python3"
  },
  "language_info": {
   "codemirror_mode": {
    "name": "ipython",
    "version": 3
   },
   "file_extension": ".py",
   "mimetype": "text/x-python",
   "name": "python",
   "nbconvert_exporter": "python",
   "pygments_lexer": "ipython3",
   "version": "3.8.10"
  },
  "orig_nbformat": 4
 },
 "nbformat": 4,
 "nbformat_minor": 2
}
