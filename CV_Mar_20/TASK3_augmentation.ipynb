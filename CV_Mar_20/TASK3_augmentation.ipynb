{
 "cells": [
  {
   "cell_type": "code",
   "execution_count": 1,
   "metadata": {},
   "outputs": [],
   "source": [
    "import cv2\n",
    "import glob\n",
    "import random\n",
    "import numpy as np"
   ]
  },
  {
   "cell_type": "code",
   "execution_count": 2,
   "metadata": {},
   "outputs": [
    {
     "name": "stdout",
     "output_type": "stream",
     "text": [
      "['1.jpeg', '2.jpeg', '3.jpeg', '4.jpeg', '5.jpeg', '6.jpeg', '7.jpeg']\n"
     ]
    }
   ],
   "source": [
    "images = glob.glob(\"*.jpeg\")\n",
    "images.sort()\n",
    "print(images)"
   ]
  },
  {
   "cell_type": "code",
   "execution_count": null,
   "metadata": {},
   "outputs": [],
   "source": [
    "# angle = 5\n",
    "# i=1\n",
    "# for img in images:\n",
    "#     image = cv2.imread(img)\n",
    "#     rows,cols,channels= image.shape\n",
    "#     for j in range(72):\n",
    "#         M = cv2.getRotationMatrix2D((cols/2, rows/2), -angle*j, 1)\n",
    "#         rotated = cv2.warpAffine(image, M, (cols, rows))\n",
    "#         name = f\"{i}_{j*angle}degree.jpeg\"\n",
    "#         cv2.imwrite(name, rotated)\n",
    "#     i+=1"
   ]
  },
  {
   "cell_type": "code",
   "execution_count": null,
   "metadata": {},
   "outputs": [],
   "source": [
    "\n",
    "# i=1\n",
    "# for imag in images:\n",
    "#     imagee = cv2.imread(imag)\n",
    "#     contrast = 1\n",
    "#     for j in range(5):\n",
    "#         brightness = random.uniform(1.1, 1.5)\n",
    "#         out = cv2.addWeighted(imagee, brightness, imagee, 0, contrast)\n",
    "#         name = f\"{i}_{j+1}bright.jpeg\"\n",
    "#         cv2.imwrite(name, out)\n",
    "#     i+=1\n"
   ]
  },
  {
   "cell_type": "code",
   "execution_count": 3,
   "metadata": {},
   "outputs": [],
   "source": [
    "k=1\n",
    "for image in images:\n",
    "    image = cv2.imread(image)\n",
    "    for m in range(1, 6):\n",
    "        noise = np.zeros_like(image)\n",
    "        cv2.randn(noise, 0, 60)\n",
    "        added_noise = cv2.add(image, noise)\n",
    "        name = f\"{k}_{m}noise.jpeg\"\n",
    "        cv2.imwrite(name, added_noise)\n",
    "    k+=1"
   ]
  },
  {
   "cell_type": "code",
   "execution_count": null,
   "metadata": {},
   "outputs": [],
   "source": []
  }
 ],
 "metadata": {
  "kernelspec": {
   "display_name": "Python 3",
   "language": "python",
   "name": "python3"
  },
  "language_info": {
   "codemirror_mode": {
    "name": "ipython",
    "version": 3
   },
   "file_extension": ".py",
   "mimetype": "text/x-python",
   "name": "python",
   "nbconvert_exporter": "python",
   "pygments_lexer": "ipython3",
   "version": "3.8.10"
  },
  "orig_nbformat": 4
 },
 "nbformat": 4,
 "nbformat_minor": 2
}
