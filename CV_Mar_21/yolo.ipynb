{
 "cells": [
  {
   "cell_type": "code",
   "execution_count": 1,
   "metadata": {},
   "outputs": [],
   "source": [
    "import json\n",
    "import cv2\n",
    "import os"
   ]
  },
  {
   "cell_type": "code",
   "execution_count": 2,
   "metadata": {},
   "outputs": [],
   "source": [
    "with open(\"cat_dog_annotations.json\", \"r\") as f:\n",
    "    data = json.load(f)\n",
    "metadata = data[\"_via_img_metadata\"]\n"
   ]
  },
  {
   "cell_type": "code",
   "execution_count": 5,
   "metadata": {},
   "outputs": [],
   "source": [
    "class_id = 0\n",
    "count = 1\n",
    "classes = {}\n",
    "if not os.path.exists(\"yolo_files\"):\n",
    "    os.makedirs(\"yolo_files\")\n",
    "for key in metadata:\n",
    "    image_data = metadata[key]\n",
    "    image_name = image_data[\"filename\"]\n",
    "    image = cv2.imread(image_name)\n",
    "    image_height, image_width, _ = image.shape\n",
    "    regions = image_data[\"regions\"]\n",
    "    with open(f\"yolo_files/{count}.txt\", \"w\") as filee:\n",
    "        for i in regions:\n",
    "            x = i[\"shape_attributes\"][\"x\"]\n",
    "            y = i[\"shape_attributes\"][\"y\"]\n",
    "            width = i[\"shape_attributes\"][\"width\"]\n",
    "            height = i[\"shape_attributes\"][\"height\"]\n",
    "            label = list(i[\"region_attributes\"][\"class\"])[0]\n",
    "            normalized_x_centre = format((x+width/2)/image_width, '.6f')\n",
    "            normalized_y_centre = format((y+height/2)/image_height, '.6f')\n",
    "            normalized_width = format(width/image_width, '.6f')\n",
    "            normalized_height = format(height/image_height, '.6f')\n",
    "            if label not in classes:\n",
    "                classes[label] = class_id\n",
    "                class_id+=1\n",
    "            id = classes[label]\n",
    "        \n",
    "            filee.write(f\"{id} {normalized_x_centre} {normalized_y_centre} {normalized_width} {normalized_height}\\n\")\n",
    "    count+=1\n"
   ]
  },
  {
   "cell_type": "code",
   "execution_count": null,
   "metadata": {},
   "outputs": [],
   "source": []
  }
 ],
 "metadata": {
  "kernelspec": {
   "display_name": "Python 3",
   "language": "python",
   "name": "python3"
  },
  "language_info": {
   "codemirror_mode": {
    "name": "ipython",
    "version": 3
   },
   "file_extension": ".py",
   "mimetype": "text/x-python",
   "name": "python",
   "nbconvert_exporter": "python",
   "pygments_lexer": "ipython3",
   "version": "3.8.10"
  },
  "orig_nbformat": 4
 },
 "nbformat": 4,
 "nbformat_minor": 2
}
