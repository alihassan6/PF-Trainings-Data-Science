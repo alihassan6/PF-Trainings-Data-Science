{
 "cells": [
  {
   "cell_type": "code",
   "execution_count": 5,
   "metadata": {},
   "outputs": [],
   "source": [
    "def sorting():\n",
    "    arr = []\n",
    "    while True:\n",
    "        n = input(\"enter required length of the array: \")\n",
    "        try:\n",
    "            n = int(n)\n",
    "        except:\n",
    "            print(\"Invalid Input...Please use numeric digits...\")\n",
    "            continue\n",
    "        if n < 0:\n",
    "            print(\"Please enter a positive number. \")\n",
    "            continue\n",
    "        break\n",
    "    for i in range(0, n):\n",
    "        while True:   \n",
    "            element = input(\"enter %d element: \"%(i+1))\n",
    "            try:\n",
    "                element = int(element)\n",
    "                arr.append(element)\n",
    "            except:\n",
    "                print(\"Invalid Input...Please use numeric digits...\")\n",
    "                continue\n",
    "            break\n",
    "    print(arr)\n",
    "    arr.sort()\n",
    "    print(\"sorted list: \", arr)\n",
    "    \n",
    "    print(\"\\nDo you want to add another element in a sorted position?\")\n",
    "    key = input(\"Enter 'y' to continue or Enter any other key to exit:  \").lower()\n",
    "    \n",
    "    if key == \"y\":\n",
    "        while True:\n",
    "            add_element = input(\"enter required element: \")\n",
    "            try:\n",
    "                add_element = int(add_element)\n",
    "                arr.append(add_element)\n",
    "                arr.sort()\n",
    "                print(\"List with number added in sorted position: \", arr)\n",
    "            except:\n",
    "                print(\"Invalid Input...Please use numeric digits...\")\n",
    "                continue\n",
    "            break\n",
    "    else:\n",
    "        print(\"sorted list: \", arr)\n",
    "    \n",
    "    return\n"
   ]
  },
  {
   "cell_type": "code",
   "execution_count": 4,
   "metadata": {},
   "outputs": [
    {
     "name": "stdout",
     "output_type": "stream",
     "text": [
      "enter required length of the array: y\n",
      "Invalid Input...Please use numeric digits...\n",
      "enter required length of the array: 2\n",
      "enter 1 element: t\n",
      "Invalid Input...Please use numeric digits...\n",
      "enter 1 element: 2\n",
      "enter 2 element: 1\n",
      "[2, 1]\n",
      "sorted list:  [1, 2]\n",
      "\n",
      "Do you want to add another element in a sorted position?\n",
      "Enter y to continue or Enter any other key to exit:  Y\n",
      "enter required element: \n",
      "Invalid Input...Please use numeric digits...\n",
      "enter required element: r\n",
      "Invalid Input...Please use numeric digits...\n",
      "enter required element: -9\n",
      "List with number added in sorted position:  [-9, 1, 2]\n"
     ]
    }
   ],
   "source": [
    "sorting()"
   ]
  },
  {
   "cell_type": "code",
   "execution_count": null,
   "metadata": {},
   "outputs": [],
   "source": []
  }
 ],
 "metadata": {
  "kernelspec": {
   "display_name": "Python 3",
   "language": "python",
   "name": "python3"
  },
  "language_info": {
   "codemirror_mode": {
    "name": "ipython",
    "version": 3
   },
   "file_extension": ".py",
   "mimetype": "text/x-python",
   "name": "python",
   "nbconvert_exporter": "python",
   "pygments_lexer": "ipython3",
   "version": "3.8.5"
  }
 },
 "nbformat": 4,
 "nbformat_minor": 4
}
