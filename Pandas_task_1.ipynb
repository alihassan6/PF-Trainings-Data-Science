{
 "cells": [
  {
   "cell_type": "code",
   "execution_count": 1,
   "id": "013a7a3c",
   "metadata": {},
   "outputs": [
    {
     "name": "stderr",
     "output_type": "stream",
     "text": [
      "2023-03-09 00:38:08.547329: I tensorflow/core/platform/cpu_feature_guard.cc:193] This TensorFlow binary is optimized with oneAPI Deep Neural Network Library (oneDNN) to use the following CPU instructions in performance-critical operations:  AVX2 FMA\n",
      "To enable them in other operations, rebuild TensorFlow with the appropriate compiler flags.\n",
      "2023-03-09 00:38:08.738940: W tensorflow/compiler/xla/stream_executor/platform/default/dso_loader.cc:64] Could not load dynamic library 'libcudart.so.11.0'; dlerror: libcudart.so.11.0: cannot open shared object file: No such file or directory\n",
      "2023-03-09 00:38:08.738964: I tensorflow/compiler/xla/stream_executor/cuda/cudart_stub.cc:29] Ignore above cudart dlerror if you do not have a GPU set up on your machine.\n",
      "2023-03-09 00:38:09.448378: W tensorflow/compiler/xla/stream_executor/platform/default/dso_loader.cc:64] Could not load dynamic library 'libnvinfer.so.7'; dlerror: libnvinfer.so.7: cannot open shared object file: No such file or directory\n",
      "2023-03-09 00:38:09.448448: W tensorflow/compiler/xla/stream_executor/platform/default/dso_loader.cc:64] Could not load dynamic library 'libnvinfer_plugin.so.7'; dlerror: libnvinfer_plugin.so.7: cannot open shared object file: No such file or directory\n",
      "2023-03-09 00:38:09.448456: W tensorflow/compiler/tf2tensorrt/utils/py_utils.cc:38] TF-TRT Warning: Cannot dlopen some TensorRT libraries. If you would like to use Nvidia GPU with TensorRT, please make sure the missing libraries mentioned above are installed properly.\n"
     ]
    }
   ],
   "source": [
    "import pandas as pd\n",
    "from keras.datasets import mnist"
   ]
  },
  {
   "cell_type": "code",
   "execution_count": 2,
   "id": "bec6f1a3",
   "metadata": {},
   "outputs": [],
   "source": [
    "dataset = mnist.load_data()\n",
    "train_df = pd.DataFrame(list(zip(dataset[0][0], dataset[0][1])), columns =['image', 'label'])\n",
    "\n",
    "test_df = pd.DataFrame(list(zip(dataset[0][0], dataset[0][1])), columns =['image', 'label'])"
   ]
  },
  {
   "cell_type": "code",
   "execution_count": null,
   "id": "934817b4",
   "metadata": {},
   "outputs": [],
   "source": [
    "train_df.head()"
   ]
  },
  {
   "cell_type": "code",
   "execution_count": 3,
   "id": "75dec2d9",
   "metadata": {},
   "outputs": [],
   "source": [
    "train_df.to_csv(\"train_df.csv\",index=False)"
   ]
  },
  {
   "cell_type": "code",
   "execution_count": 4,
   "id": "0b03e9ff",
   "metadata": {},
   "outputs": [],
   "source": [
    "test_df.to_csv(\"test_df.csv\",index=False)"
   ]
  },
  {
   "cell_type": "code",
   "execution_count": null,
   "id": "6118616a",
   "metadata": {},
   "outputs": [],
   "source": []
  },
  {
   "cell_type": "code",
   "execution_count": 5,
   "id": "0eafa3b7",
   "metadata": {},
   "outputs": [],
   "source": [
    "load_train_data = pd.read_csv(\"train_df.csv\")"
   ]
  },
  {
   "cell_type": "code",
   "execution_count": 6,
   "id": "2b9c12f7",
   "metadata": {},
   "outputs": [],
   "source": [
    "load_test_data = pd.read_csv(\"test_df.csv\")"
   ]
  },
  {
   "cell_type": "code",
   "execution_count": 13,
   "id": "1bcbac36",
   "metadata": {},
   "outputs": [
    {
     "data": {
      "text/plain": [
       "(60000, 2)"
      ]
     },
     "execution_count": 13,
     "metadata": {},
     "output_type": "execute_result"
    }
   ],
   "source": [
    "load_test_data.shape"
   ]
  },
  {
   "cell_type": "code",
   "execution_count": 10,
   "id": "3eb69f97",
   "metadata": {},
   "outputs": [],
   "source": [
    "import numpy as np"
   ]
  },
  {
   "cell_type": "code",
   "execution_count": 11,
   "id": "b2a6d216",
   "metadata": {},
   "outputs": [],
   "source": [
    "array_1 = np.array(load_train_data['image'])"
   ]
  },
  {
   "cell_type": "code",
   "execution_count": 12,
   "id": "a9b937e3",
   "metadata": {},
   "outputs": [],
   "source": [
    "array_2 = np.array(load_train_data['label'])"
   ]
  },
  {
   "cell_type": "code",
   "execution_count": 14,
   "id": "9261c0a0",
   "metadata": {},
   "outputs": [],
   "source": [
    "result_1 = (array_1, array_2)"
   ]
  },
  {
   "cell_type": "code",
   "execution_count": 15,
   "id": "2141c44e",
   "metadata": {},
   "outputs": [
    {
     "data": {
      "text/plain": [
       "[numpy.ndarray, numpy.ndarray]"
      ]
     },
     "execution_count": 15,
     "metadata": {},
     "output_type": "execute_result"
    }
   ],
   "source": [
    "list(map(type, result_1))"
   ]
  },
  {
   "cell_type": "code",
   "execution_count": 16,
   "id": "ad0dfdfc",
   "metadata": {},
   "outputs": [],
   "source": [
    "test_array_1 = np.array(load_test_data['image'])\n",
    "test_array_2 = np.array(load_test_data['label'])\n",
    "result_2 = (test_array_1, test_array_2)"
   ]
  },
  {
   "cell_type": "code",
   "execution_count": 17,
   "id": "4519ef4c",
   "metadata": {},
   "outputs": [],
   "source": [
    "output = (result_1, result_2)"
   ]
  },
  {
   "cell_type": "code",
   "execution_count": 18,
   "id": "62d0a74c",
   "metadata": {},
   "outputs": [
    {
     "data": {
      "text/plain": [
       "[tuple, tuple]"
      ]
     },
     "execution_count": 18,
     "metadata": {},
     "output_type": "execute_result"
    }
   ],
   "source": [
    "list(map(type, output))"
   ]
  },
  {
   "cell_type": "code",
   "execution_count": null,
   "id": "cc9a9c50",
   "metadata": {},
   "outputs": [],
   "source": []
  }
 ],
 "metadata": {
  "kernelspec": {
   "display_name": "Python 3 (ipykernel)",
   "language": "python",
   "name": "python3"
  },
  "language_info": {
   "codemirror_mode": {
    "name": "ipython",
    "version": 3
   },
   "file_extension": ".py",
   "mimetype": "text/x-python",
   "name": "python",
   "nbconvert_exporter": "python",
   "pygments_lexer": "ipython3",
   "version": "3.9.13"
  }
 },
 "nbformat": 4,
 "nbformat_minor": 5
}
